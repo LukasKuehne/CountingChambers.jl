{
 "cells": [
  {
   "cell_type": "markdown",
   "metadata": {},
   "source": [
    "# Enumerating chambers in symmetric arrangements"
   ]
  },
  {
   "cell_type": "code",
   "execution_count": 1,
   "metadata": {},
   "outputs": [
    {
     "name": "stderr",
     "output_type": "stream",
     "text": [
      "┌ Info: Precompiling CountingChambers [23b3ee6f-a072-41d8-ada8-267420d58637]\n",
      "└ @ Base loading.jl:1317\n"
     ]
    },
    {
     "name": "stdout",
     "output_type": "stream",
     "text": [
      " ┌───────┐   GAP 4.11.1 of 2021-03-02\n",
      " │  GAP  │   https://www.gap-system.org\n",
      " └───────┘   Architecture: x86_64-apple-darwin14-julia64-kv7\n",
      " Configuration:  gmp 6.2.0, Julia GC, Julia 1.6.0, readline\n",
      " Loading the library and packages ...\n",
      " Packages:   AClib 1.3.2, Alnuth 3.1.2, AtlasRep 2.1.0, AutoDoc 2019.09.04, \n",
      "             AutPGrp 1.10.2, CRISP 1.4.5, Cryst 4.1.23, CrystCat 1.1.9, \n",
      "             CTblLib 1.2.2, FactInt 1.6.3, FGA 1.4.0, Forms 1.2.5, \n",
      "             GAPDoc 1.6.3, genss 1.6.6, IO 4.7.0, IRREDSOL 1.4, \n",
      "             JuliaInterface 0.5.2, LAGUNA 3.9.3, orb 4.8.3, Polenta 1.3.9, \n",
      "             Polycyclic 2.15.1, PrimGrp 3.4.0, RadiRoot 2.8, recog 1.3.2, \n",
      "             ResClasses 4.7.2, SmallGrp 1.4.1, Sophus 1.24, SpinSym 1.5.2, \n",
      "             TomLib 1.2.9, TransGrp 2.0.5, utils 0.69\n",
      " Try '??help' for help. See also '?copyright', '?cite' and '?authors'\n",
      "─────────────────────────────────────────────────────────────────────────────\n",
      "Loading  ferret 1.0.3 (Backtrack Search in Permutation Groups)\n",
      "by Christopher Jefferson (http://caj.host.cs.st-andrews.ac.uk/).\n",
      "Homepage: https://gap-packages.github.io/ferret/\n",
      "Report issues at https://github.com/gap-packages/ferret/issues\n",
      "─────────────────────────────────────────────────────────────────────────────\n",
      "─────────────────────────────────────────────────────────────────────────────\n",
      "Loading  images 1.3.0 (Minimal and Canonical images)\n",
      "by Christopher Jefferson (http://caj.host.cs.st-andrews.ac.uk/),\n",
      "   Markus Pfeiffer (http://www.morphism.de/~markusp/),\n",
      "   Rebecca Waldecker (http://conway1.mathematik.uni-halle.de/~waldecker/), and\n",
      "   Eliza Jonauskyte (ej31@st-andrews.ac.uk).\n",
      "maintained by:\n",
      "   Christopher Jefferson (http://caj.host.cs.st-andrews.ac.uk/).\n",
      "Homepage: https://gap-packages.github.io/images/\n",
      "Report issues at https://github.com/gap-packages/images/issues\n",
      "─────────────────────────────────────────────────────────────────────────────\n"
     ]
    }
   ],
   "source": [
    "using CountingChambers"
   ]
  },
  {
   "cell_type": "markdown",
   "metadata": {},
   "source": [
    "## Example 2 from our article:"
   ]
  },
  {
   "attachments": {
    "running_example_Single.svg": {
     "image/svg+xml": [
      "PD94bWwgdmVyc2lvbj0iMS4wIiBlbmNvZGluZz0iVVRGLTgiPz4KPHN2ZyB4bWxucz0iaHR0cDovL3d3dy53My5vcmcvMjAwMC9zdmciIHhtbG5zOnhsaW5rPSJodHRwOi8vd3d3LnczLm9yZy8xOTk5L3hsaW5rIiB3aWR0aD0iMzk4LjA0NnB0IiBoZWlnaHQ9IjIwNi43MDdwdCIgdmlld0JveD0iMCAwIDM5OC4wNDYgMjA2LjcwNyIgdmVyc2lvbj0iMS4xIj4KPGRlZnM+CjxnPgo8c3ltYm9sIG92ZXJmbG93PSJ2aXNpYmxlIiBpZD0iZ2x5cGgwLTAiPgo8cGF0aCBzdHlsZT0ic3Ryb2tlOm5vbmU7IiBkPSIiLz4KPC9zeW1ib2w+CjxzeW1ib2wgb3ZlcmZsb3c9InZpc2libGUiIGlkPSJnbHlwaDAtMSI+CjxwYXRoIHN0eWxlPSJzdHJva2U6bm9uZTsiIGQ9Ik0gMTUuNDUzMTI1IC0xMi41OTM3NSBDIDE1LjY0MDYyNSAtMTMuMjk2ODc1IDE1LjY3MTg3NSAtMTMuNTE1NjI1IDE3LjE0MDYyNSAtMTMuNTE1NjI1IEMgMTcuNTE1NjI1IC0xMy41MTU2MjUgMTcuNzE4NzUgLTEzLjUxNTYyNSAxNy43MTg3NSAtMTMuODc1IEMgMTcuNzE4NzUgLTE0LjEwOTM3NSAxNy41MzEyNSAtMTQuMTA5Mzc1IDE3LjQwNjI1IC0xNC4xMDkzNzUgQyAxNy4wNDY4NzUgLTE0LjEwOTM3NSAxNi42MDkzNzUgLTE0LjA2MjUgMTYuMjE4NzUgLTE0LjA2MjUgTCAxMy43ODEyNSAtMTQuMDYyNSBDIDEzLjM5MDYyNSAtMTQuMDYyNSAxMi45NTMxMjUgLTE0LjEwOTM3NSAxMi41NjI1IC0xNC4xMDkzNzUgQyAxMi40MjE4NzUgLTE0LjEwOTM3NSAxMi4xNzE4NzUgLTE0LjEwOTM3NSAxMi4xNzE4NzUgLTEzLjcxODc1IEMgMTIuMTcxODc1IC0xMy41MTU2MjUgMTIuMzEyNSAtMTMuNTE1NjI1IDEyLjcwMzEyNSAtMTMuNTE1NjI1IEMgMTMuOTM3NSAtMTMuNTE1NjI1IDEzLjkzNzUgLTEzLjM0Mzc1IDEzLjkzNzUgLTEzLjEwOTM3NSBDIDEzLjkzNzUgLTEzLjA3ODEyNSAxMy45Mzc1IC0xMi45NTMxMjUgMTMuODU5Mzc1IC0xMi42NDA2MjUgTCAxMi41OTM3NSAtNy42NDA2MjUgTCA2LjM1OTM3NSAtNy42NDA2MjUgTCA3LjU5Mzc1IC0xMi41OTM3NSBDIDcuNzgxMjUgLTEzLjI5Njg3NSA3LjgyODEyNSAtMTMuNTE1NjI1IDkuMjk2ODc1IC0xMy41MTU2MjUgQyA5LjY3MTg3NSAtMTMuNTE1NjI1IDkuODc1IC0xMy41MTU2MjUgOS44NzUgLTEzLjg3NSBDIDkuODc1IC0xNC4xMDkzNzUgOS42ODc1IC0xNC4xMDkzNzUgOS41NjI1IC0xNC4xMDkzNzUgQyA5LjE4NzUgLTE0LjEwOTM3NSA4Ljc2NTYyNSAtMTQuMDYyNSA4LjM1OTM3NSAtMTQuMDYyNSBMIDUuOTIxODc1IC0xNC4wNjI1IEMgNS41MzEyNSAtMTQuMDYyNSA1LjEwOTM3NSAtMTQuMTA5Mzc1IDQuNzAzMTI1IC0xNC4xMDkzNzUgQyA0LjU2MjUgLTE0LjEwOTM3NSA0LjMxMjUgLTE0LjEwOTM3NSA0LjMxMjUgLTEzLjcxODc1IEMgNC4zMTI1IC0xMy41MTU2MjUgNC40Njg3NSAtMTMuNTE1NjI1IDQuODU5Mzc1IC0xMy41MTU2MjUgQyA2LjA5Mzc1IC0xMy41MTU2MjUgNi4wOTM3NSAtMTMuMzQzNzUgNi4wOTM3NSAtMTMuMTA5Mzc1IEMgNi4wOTM3NSAtMTMuMDc4MTI1IDYuMDkzNzUgLTEyLjk1MzEyNSA2LjAxNTYyNSAtMTIuNjQwNjI1IEwgMy4yMTg3NSAtMS41MzEyNSBDIDMuMDMxMjUgLTAuODEyNSAzIC0wLjU5Mzc1IDEuNTYyNSAtMC41OTM3NSBDIDEuMDkzNzUgLTAuNTkzNzUgMC45NTMxMjUgLTAuNTkzNzUgMC45NTMxMjUgLTAuMjAzMTI1IEMgMC45NTMxMjUgMCAxLjE3MTg3NSAwIDEuMjM0Mzc1IDAgQyAxLjYwOTM3NSAwIDIuMDQ2ODc1IC0wLjA0Njg3NSAyLjQzNzUgLTAuMDQ2ODc1IEwgNC44NzUgLTAuMDQ2ODc1IEMgNS4yNjU2MjUgLTAuMDQ2ODc1IDUuNzAzMTI1IDAgNi4wOTM3NSAwIEMgNi4yNjU2MjUgMCA2LjQ4NDM3NSAwIDYuNDg0Mzc1IC0wLjM5MDYyNSBDIDYuNDg0Mzc1IC0wLjU5Mzc1IDYuMjk2ODc1IC0wLjU5Mzc1IDUuOTg0Mzc1IC0wLjU5Mzc1IEMgNC43MzQzNzUgLTAuNTkzNzUgNC43MzQzNzUgLTAuNzY1NjI1IDQuNzM0Mzc1IC0wLjk2ODc1IEMgNC43MzQzNzUgLTAuOTg0Mzc1IDQuNzM0Mzc1IC0xLjE0MDYyNSA0Ljc2NTYyNSAtMS4yOTY4NzUgTCA2LjIwMzEyNSAtNy4wNDY4NzUgTCAxMi40NTMxMjUgLTcuMDQ2ODc1IEMgMTIuMTA5Mzc1IC01LjY4NzUgMTEuMDQ2ODc1IC0xLjM1OTM3NSAxMS4wMTU2MjUgLTEuMjM0Mzc1IEMgMTAuNzgxMjUgLTAuNjI1IDEwLjQ1MzEyNSAtMC42MjUgOS4yMzQzNzUgLTAuNTkzNzUgQyA4Ljk4NDM3NSAtMC41OTM3NSA4Ljc5Njg3NSAtMC41OTM3NSA4Ljc5Njg3NSAtMC4yMDMxMjUgQyA4Ljc5Njg3NSAwIDkuMDMxMjUgMCA5LjA5Mzc1IDAgQyA5LjQ1MzEyNSAwIDkuODkwNjI1IC0wLjA0Njg3NSAxMC4yODEyNSAtMC4wNDY4NzUgTCAxMi43MTg3NSAtMC4wNDY4NzUgQyAxMy4xMDkzNzUgLTAuMDQ2ODc1IDEzLjU0Njg3NSAwIDEzLjkzNzUgMCBDIDE0LjEwOTM3NSAwIDE0LjMyODEyNSAwIDE0LjMyODEyNSAtMC4zOTA2MjUgQyAxNC4zMjgxMjUgLTAuNTkzNzUgMTQuMTU2MjUgLTAuNTkzNzUgMTMuODQzNzUgLTAuNTkzNzUgQyAxMi41NzgxMjUgLTAuNTkzNzUgMTIuNTc4MTI1IC0wLjc2NTYyNSAxMi41NzgxMjUgLTAuOTY4NzUgQyAxMi41NzgxMjUgLTAuOTg0Mzc1IDEyLjU3ODEyNSAtMS4xNDA2MjUgMTIuNjI1IC0xLjI5Njg3NSBaIE0gMTUuNDUzMTI1IC0xMi41OTM3NSAiLz4KPC9zeW1ib2w+CjxzeW1ib2wgb3ZlcmZsb3c9InZpc2libGUiIGlkPSJnbHlwaDEtMCI+CjxwYXRoIHN0eWxlPSJzdHJva2U6bm9uZTsiIGQ9IiIvPgo8L3N5bWJvbD4KPHN5bWJvbCBvdmVyZmxvdz0idmlzaWJsZSIgaWQ9ImdseXBoMS0xIj4KPHBhdGggc3R5bGU9InN0cm9rZTpub25lOyIgZD0iTSA0LjEyNSAtOS4xODc1IEMgNC4xMjUgLTkuNTMxMjUgNC4xMjUgLTkuNTMxMjUgMy44NDM3NSAtOS41MzEyNSBDIDMuNSAtOS4xNTYyNSAyLjc4MTI1IC04LjYyNSAxLjMxMjUgLTguNjI1IEwgMS4zMTI1IC04LjIwMzEyNSBDIDEuNjQwNjI1IC04LjIwMzEyNSAyLjM1OTM3NSAtOC4yMDMxMjUgMy4xNDA2MjUgLTguNTc4MTI1IEwgMy4xNDA2MjUgLTEuMTA5Mzc1IEMgMy4xNDA2MjUgLTAuNTkzNzUgMy4wOTM3NSAtMC40MjE4NzUgMS44NDM3NSAtMC40MjE4NzUgTCAxLjM5MDYyNSAtMC40MjE4NzUgTCAxLjM5MDYyNSAwIEMgMS43ODEyNSAtMC4wMzEyNSAzLjE3MTg3NSAtMC4wMzEyNSAzLjY0MDYyNSAtMC4wMzEyNSBDIDQuMTA5Mzc1IC0wLjAzMTI1IDUuNSAtMC4wMzEyNSA1Ljg3NSAwIEwgNS44NzUgLTAuNDIxODc1IEwgNS40Mzc1IC0wLjQyMTg3NSBDIDQuMTcxODc1IC0wLjQyMTg3NSA0LjEyNSAtMC41OTM3NSA0LjEyNSAtMS4xMDkzNzUgWiBNIDQuMTI1IC05LjE4NzUgIi8+Cjwvc3ltYm9sPgo8c3ltYm9sIG92ZXJmbG93PSJ2aXNpYmxlIiBpZD0iZ2x5cGgxLTIiPgo8cGF0aCBzdHlsZT0ic3Ryb2tlOm5vbmU7IiBkPSJNIDYuMzEyNSAtMi40MDYyNSBMIDYgLTIuNDA2MjUgQyA1Ljk1MzEyNSAtMi4xNzE4NzUgNS44NDM3NSAtMS4zNzUgNS42ODc1IC0xLjE0MDYyNSBDIDUuNTkzNzUgLTEuMDE1NjI1IDQuNzgxMjUgLTEuMDE1NjI1IDQuMzQzNzUgLTEuMDE1NjI1IEwgMS42ODc1IC0xLjAxNTYyNSBDIDIuMDc4MTI1IC0xLjM0Mzc1IDIuOTUzMTI1IC0yLjI2NTYyNSAzLjMyODEyNSAtMi42MDkzNzUgQyA1LjUxNTYyNSAtNC42MjUgNi4zMTI1IC01LjM1OTM3NSA2LjMxMjUgLTYuNzgxMjUgQyA2LjMxMjUgLTguNDM3NSA1IC05LjUzMTI1IDMuMzQzNzUgLTkuNTMxMjUgQyAxLjY3MTg3NSAtOS41MzEyNSAwLjcwMzEyNSAtOC4xMjUgMC43MDMxMjUgLTYuODkwNjI1IEMgMC43MDMxMjUgLTYuMTU2MjUgMS4zMjgxMjUgLTYuMTU2MjUgMS4zNzUgLTYuMTU2MjUgQyAxLjY3MTg3NSAtNi4xNTYyNSAyLjA0Njg3NSAtNi4zNzUgMi4wNDY4NzUgLTYuODI4MTI1IEMgMi4wNDY4NzUgLTcuMjM0Mzc1IDEuNzgxMjUgLTcuNSAxLjM3NSAtNy41IEMgMS4yNSAtNy41IDEuMjE4NzUgLTcuNSAxLjE3MTg3NSAtNy40ODQzNzUgQyAxLjQ1MzEyNSAtOC40Njg3NSAyLjIxODc1IC05LjEyNSAzLjE1NjI1IC05LjEyNSBDIDQuMzc1IC05LjEyNSA1LjEyNSAtOC4xMDkzNzUgNS4xMjUgLTYuNzgxMjUgQyA1LjEyNSAtNS41NjI1IDQuNDIxODc1IC00LjUgMy41OTM3NSAtMy41NzgxMjUgTCAwLjcwMzEyNSAtMC4zNDM3NSBMIDAuNzAzMTI1IDAgTCA1LjkzNzUgMCBaIE0gNi4zMTI1IC0yLjQwNjI1ICIvPgo8L3N5bWJvbD4KPHN5bWJvbCBvdmVyZmxvdz0idmlzaWJsZSIgaWQ9ImdseXBoMS0zIj4KPHBhdGggc3R5bGU9InN0cm9rZTpub25lOyIgZD0iTSAyLjY0MDYyNSAtNS4xNTYyNSBDIDIuMzkwNjI1IC01LjE0MDYyNSAyLjM0Mzc1IC01LjEyNSAyLjM0Mzc1IC00Ljk4NDM3NSBDIDIuMzQzNzUgLTQuODQzNzUgMi40MDYyNSAtNC44NDM3NSAyLjY3MTg3NSAtNC44NDM3NSBMIDMuMzI4MTI1IC00Ljg0Mzc1IEMgNC41NDY4NzUgLTQuODQzNzUgNS4wOTM3NSAtMy44NDM3NSA1LjA5Mzc1IC0yLjQ2ODc1IEMgNS4wOTM3NSAtMC41OTM3NSA0LjEwOTM3NSAtMC4wOTM3NSAzLjQwNjI1IC0wLjA5Mzc1IEMgMi43MTg3NSAtMC4wOTM3NSAxLjU0Njg3NSAtMC40MjE4NzUgMS4xNDA2MjUgLTEuMzU5Mzc1IEMgMS41OTM3NSAtMS4yOTY4NzUgMi4wMTU2MjUgLTEuNTQ2ODc1IDIuMDE1NjI1IC0yLjA2MjUgQyAyLjAxNTYyNSAtMi40ODQzNzUgMS43MDMxMjUgLTIuNzY1NjI1IDEuMzEyNSAtMi43NjU2MjUgQyAwLjk2ODc1IC0yLjc2NTYyNSAwLjU5Mzc1IC0yLjU2MjUgMC41OTM3NSAtMi4wMTU2MjUgQyAwLjU5Mzc1IC0wLjc1IDEuODU5Mzc1IDAuMjk2ODc1IDMuNDUzMTI1IDAuMjk2ODc1IEMgNS4xNTYyNSAwLjI5Njg3NSA2LjQyMTg3NSAtMSA2LjQyMTg3NSAtMi40NTMxMjUgQyA2LjQyMTg3NSAtMy43NjU2MjUgNS4zNTkzNzUgLTQuODEyNSAzLjk4NDM3NSAtNS4wNDY4NzUgQyA1LjIzNDM3NSAtNS40MDYyNSA2LjAzMTI1IC02LjQ1MzEyNSA2LjAzMTI1IC03LjU3ODEyNSBDIDYuMDMxMjUgLTguNzAzMTI1IDQuODU5Mzc1IC05LjUzMTI1IDMuNDY4NzUgLTkuNTMxMjUgQyAyLjAzMTI1IC05LjUzMTI1IDAuOTY4NzUgLTguNjU2MjUgMC45Njg3NSAtNy42MDkzNzUgQyAwLjk2ODc1IC03LjA0Njg3NSAxLjQyMTg3NSAtNi45MjE4NzUgMS42NDA2MjUgLTYuOTIxODc1IEMgMS45Mzc1IC02LjkyMTg3NSAyLjI4MTI1IC03LjE0MDYyNSAyLjI4MTI1IC03LjU3ODEyNSBDIDIuMjgxMjUgLTguMDMxMjUgMS45Mzc1IC04LjIzNDM3NSAxLjYyNSAtOC4yMzQzNzUgQyAxLjUzMTI1IC04LjIzNDM3NSAxLjUgLTguMjM0Mzc1IDEuNDY4NzUgLTguMjE4NzUgQyAyLjAxNTYyNSAtOS4xODc1IDMuMzU5Mzc1IC05LjE4NzUgMy40MjE4NzUgLTkuMTg3NSBDIDMuOTA2MjUgLTkuMTg3NSA0LjgyODEyNSAtOC45ODQzNzUgNC44MjgxMjUgLTcuNTc4MTI1IEMgNC44MjgxMjUgLTcuMjk2ODc1IDQuNzk2ODc1IC02LjUgNC4zNzUgLTUuODc1IEMgMy45Mzc1IC01LjI1IDMuNDUzMTI1IC01LjIwMzEyNSAzLjA2MjUgLTUuMTg3NSBaIE0gMi42NDA2MjUgLTUuMTU2MjUgIi8+Cjwvc3ltYm9sPgo8c3ltYm9sIG92ZXJmbG93PSJ2aXNpYmxlIiBpZD0iZ2x5cGgxLTQiPgo8cGF0aCBzdHlsZT0ic3Ryb2tlOm5vbmU7IiBkPSJNIDUuMTcxODc1IC05LjM0Mzc1IEMgNS4xNzE4NzUgLTkuNjA5Mzc1IDUuMTcxODc1IC05LjY4NzUgNC45ODQzNzUgLTkuNjg3NSBDIDQuODU5Mzc1IC05LjY4NzUgNC44MTI1IC05LjY4NzUgNC43MDMxMjUgLTkuNTE1NjI1IEwgMC4zOTA2MjUgLTIuODEyNSBMIDAuMzkwNjI1IC0yLjM5MDYyNSBMIDQuMTU2MjUgLTIuMzkwNjI1IEwgNC4xNTYyNSAtMS4wOTM3NSBDIDQuMTU2MjUgLTAuNTYyNSA0LjEyNSAtMC40MjE4NzUgMy4wNzgxMjUgLTAuNDIxODc1IEwgMi43OTY4NzUgLTAuNDIxODc1IEwgMi43OTY4NzUgMCBDIDMuMTI1IC0wLjAzMTI1IDQuMjY1NjI1IC0wLjAzMTI1IDQuNjU2MjUgLTAuMDMxMjUgQyA1LjA2MjUgLTAuMDMxMjUgNi4yMDMxMjUgLTAuMDMxMjUgNi41NDY4NzUgMCBMIDYuNTQ2ODc1IC0wLjQyMTg3NSBMIDYuMjUgLTAuNDIxODc1IEMgNS4yMTg3NSAtMC40MjE4NzUgNS4xNzE4NzUgLTAuNTYyNSA1LjE3MTg3NSAtMS4wOTM3NSBMIDUuMTcxODc1IC0yLjM5MDYyNSBMIDYuNjI1IC0yLjM5MDYyNSBMIDYuNjI1IC0yLjgxMjUgTCA1LjE3MTg3NSAtMi44MTI1IFogTSA0LjIzNDM3NSAtOC4yMTg3NSBMIDQuMjM0Mzc1IC0yLjgxMjUgTCAwLjc1IC0yLjgxMjUgWiBNIDQuMjM0Mzc1IC04LjIxODc1ICIvPgo8L3N5bWJvbD4KPC9nPgo8Y2xpcFBhdGggaWQ9ImNsaXAxIj4KICA8cGF0aCBkPSJNIDAgMCBMIDI3MyAwIEwgMjczIDIwNi43MDcwMzEgTCAwIDIwNi43MDcwMzEgWiBNIDAgMCAiLz4KPC9jbGlwUGF0aD4KPGNsaXBQYXRoIGlkPSJjbGlwMiI+CiAgPHBhdGggZD0iTSAwIDE3NyBMIDM5OC4wNDY4NzUgMTc3IEwgMzk4LjA0Njg3NSAxNzkgTCAwIDE3OSBaIE0gMCAxNzcgIi8+CjwvY2xpcFBhdGg+CjxjbGlwUGF0aCBpZD0iY2xpcDMiPgogIDxwYXRoIGQ9Ik0gMTI1IDAgTCAzOTguMDQ2ODc1IDAgTCAzOTguMDQ2ODc1IDIwNi43MDcwMzEgTCAxMjUgMjA2LjcwNzAzMSBaIE0gMTI1IDAgIi8+CjwvY2xpcFBhdGg+CjxjbGlwUGF0aCBpZD0iY2xpcDQiPgogIDxwYXRoIGQ9Ik0gMTk4IDAgTCAyMDAgMCBMIDIwMCAyMDYuNzA3MDMxIEwgMTk4IDIwNi43MDcwMzEgWiBNIDE5OCAwICIvPgo8L2NsaXBQYXRoPgo8L2RlZnM+CjxnIGlkPSJzdXJmYWNlMSI+CjxnIGNsaXAtcGF0aD0idXJsKCNjbGlwMSkiIGNsaXAtcnVsZT0ibm9uemVybyI+CjxwYXRoIHN0eWxlPSJmaWxsOm5vbmU7c3Ryb2tlLXdpZHRoOjEuMTk1NTM7c3Ryb2tlLWxpbmVjYXA6YnV0dDtzdHJva2UtbGluZWpvaW46bWl0ZXI7c3Ryb2tlOnJnYigwJSwwJSwwJSk7c3Ryb2tlLW9wYWNpdHk6MTtzdHJva2UtbWl0ZXJsaW1pdDoxMDsiIGQ9Ik0gMjk3LjY0MTU2MyAyOTAuNTU0NTMxIEwgNTUyLjc2MjY1NiA0OTYuMDcwMTU2ICIgdHJhbnNmb3JtPSJtYXRyaXgoMSwwLDAsLTEsLTI5Ny4wNCw0OTYuNjYpIi8+CjwvZz4KPGcgY2xpcC1wYXRoPSJ1cmwoI2NsaXAyKSIgY2xpcC1ydWxlPSJub256ZXJvIj4KPHBhdGggc3R5bGU9ImZpbGw6bm9uZTtzdHJva2Utd2lkdGg6MS4xOTU1MztzdHJva2UtbGluZWNhcDpidXR0O3N0cm9rZS1saW5lam9pbjptaXRlcjtzdHJva2U6cmdiKDAlLDAlLDAlKTtzdHJva2Utb3BhY2l0eToxO3N0cm9rZS1taXRlcmxpbWl0OjEwOyIgZD0iTSAyOTcuNjQxNTYzIDMxOC45MDIxODcgTCA2OTQuNDk3MDMxIDMxOC45MDIxODcgIiB0cmFuc2Zvcm09Im1hdHJpeCgxLDAsMCwtMSwtMjk3LjA0LDQ5Ni42NikiLz4KPC9nPgo8ZyBjbGlwLXBhdGg9InVybCgjY2xpcDMpIiBjbGlwLXJ1bGU9Im5vbnplcm8iPgo8cGF0aCBzdHlsZT0iZmlsbDpub25lO3N0cm9rZS13aWR0aDoxLjE5NTUzO3N0cm9rZS1saW5lY2FwOmJ1dHQ7c3Ryb2tlLWxpbmVqb2luOm1pdGVyO3N0cm9rZTpyZ2IoMCUsMCUsMCUpO3N0cm9rZS1vcGFjaXR5OjE7c3Ryb2tlLW1pdGVybGltaXQ6MTA7IiBkPSJNIDY5NC40OTcwMzEgMjkwLjU1NDUzMSBMIDQzOS4zNzU5MzggNDk2LjA3MDE1NiAiIHRyYW5zZm9ybT0ibWF0cml4KDEsMCwwLC0xLC0yOTcuMDQsNDk2LjY2KSIvPgo8L2c+CjxnIGNsaXAtcGF0aD0idXJsKCNjbGlwNCkiIGNsaXAtcnVsZT0ibm9uemVybyI+CjxwYXRoIHN0eWxlPSJmaWxsOm5vbmU7c3Ryb2tlLXdpZHRoOjEuMTk1NTM7c3Ryb2tlLWxpbmVjYXA6YnV0dDtzdHJva2UtbGluZWpvaW46bWl0ZXI7c3Ryb2tlOnJnYigwJSwwJSwwJSk7c3Ryb2tlLW9wYWNpdHk6MTtzdHJva2UtbWl0ZXJsaW1pdDoxMDsiIGQ9Ik0gNDk2LjA2NzM0NCAyOTAuNTU0NTMxIEwgNDk2LjA2NzM0NCA0OTYuMDcwMTU2ICIgdHJhbnNmb3JtPSJtYXRyaXgoMSwwLDAsLTEsLTI5Ny4wNCw0OTYuNjYpIi8+CjwvZz4KPGcgc3R5bGU9ImZpbGw6cmdiKDAlLDAlLDAlKTtmaWxsLW9wYWNpdHk6MTsiPgogIDx1c2UgeGxpbms6aHJlZj0iI2dseXBoMC0xIiB4PSI5Ny42NjEiIHk9Ijk2LjgxNiIvPgo8L2c+CjxnIHN0eWxlPSJmaWxsOnJnYigwJSwwJSwwJSk7ZmlsbC1vcGFjaXR5OjE7Ij4KICA8dXNlIHhsaW5rOmhyZWY9IiNnbHlwaDEtMSIgeD0iMTE0LjQyNCIgeT0iOTkuOTE1Ii8+CjwvZz4KPGcgc3R5bGU9ImZpbGw6cmdiKDAlLDAlLDAlKTtmaWxsLW9wYWNpdHk6MTsiPgogIDx1c2UgeGxpbms6aHJlZj0iI2dseXBoMC0xIiB4PSIxNjguNTI3IiB5PSIxMjIuMzI4Ii8+CjwvZz4KPGcgc3R5bGU9ImZpbGw6cmdiKDAlLDAlLDAlKTtmaWxsLW9wYWNpdHk6MTsiPgogIDx1c2UgeGxpbms6aHJlZj0iI2dseXBoMS0yIiB4PSIxODUuMjkiIHk9IjEyNS40MjciLz4KPC9nPgo8ZyBzdHlsZT0iZmlsbDpyZ2IoMCUsMCUsMCUpO2ZpbGwtb3BhY2l0eToxOyI+CiAgPHVzZSB4bGluazpocmVmPSIjZ2x5cGgwLTEiIHg9IjI3Ni4yNDQiIHk9Ijk2LjgxNiIvPgo8L2c+CjxnIHN0eWxlPSJmaWxsOnJnYigwJSwwJSwwJSk7ZmlsbC1vcGFjaXR5OjE7Ij4KICA8dXNlIHhsaW5rOmhyZWY9IiNnbHlwaDEtMyIgeD0iMjkzLjAwNyIgeT0iOTkuOTE1Ii8+CjwvZz4KPGcgc3R5bGU9ImZpbGw6cmdiKDAlLDAlLDAlKTtmaWxsLW9wYWNpdHk6MTsiPgogIDx1c2UgeGxpbms6aHJlZj0iI2dseXBoMC0xIiB4PSIxMTEuODM0IiB5PSIxOTguODYzIi8+CjwvZz4KPGcgc3R5bGU9ImZpbGw6cmdiKDAlLDAlLDAlKTtmaWxsLW9wYWNpdHk6MTsiPgogIDx1c2UgeGxpbms6aHJlZj0iI2dseXBoMS00IiB4PSIxMjguNTk3IiB5PSIyMDEuOTYzIi8+CjwvZz4KPC9nPgo8L3N2Zz4K"
     ]
    }
   },
   "cell_type": "markdown",
   "metadata": {},
   "source": [
    "![running_example_Single.svg](attachment:running_example_Single.svg)"
   ]
  },
  {
   "cell_type": "markdown",
   "metadata": {},
   "source": [
    "We start by computing the characteristic polynomial $\\chi_{\\mathcal{A}}(t)$ of the arrangement $\\mathcal{A}$ depicted above. "
   ]
  },
  {
   "cell_type": "code",
   "execution_count": 2,
   "metadata": {},
   "outputs": [
    {
     "data": {
      "text/html": [
       "$10$"
      ],
      "text/plain": [
       "10"
      ]
     },
     "execution_count": 2,
     "metadata": {},
     "output_type": "execute_result"
    }
   ],
   "source": [
    "A = [-1 1 1 0; 1 0 1 1] # The four columns of A represent the normal vectors of the arrangement.\n",
    "c = [1, 0, 1, 0] # To deal with non-central arrangements, constant terms c_i for l(x1,...,x_n)=c_i can be given.\n",
    "number_of_chambers(A; ConstantTerms=c)"
   ]
  },
  {
   "cell_type": "code",
   "execution_count": 3,
   "metadata": {},
   "outputs": [
    {
     "name": "stdout",
     "output_type": "stream",
     "text": [
      "[1, 4, 5]"
     ]
    },
    {
     "data": {
      "text/html": [
       "$t^{2} - 4t + 5$"
      ],
      "text/latex": [
       "t^{2} - 4 t + 5"
      ],
      "text/plain": [
       "t^2 - 4*t + 5"
      ]
     },
     "execution_count": 3,
     "metadata": {},
     "output_type": "execute_result"
    }
   ],
   "source": [
    "print(betti_numbers(A; ConstantTerms=c))\n",
    "chiA = characteristic_polynomial(A; ConstantTerms=c)"
   ]
  },
  {
   "cell_type": "markdown",
   "metadata": {},
   "source": [
    "Zaslavasky proved that for a general arrangement $\\mathcal{A}$ in $\\mathbb{R}^d$ the number of chambers equals $(-1)^d\\chi_{\\mathcal{A}}(-1)$ and the number of bounded chambers equals $(-1)^d\\chi_{\\mathcal{A}}(1)$:"
   ]
  },
  {
   "cell_type": "code",
   "execution_count": 4,
   "metadata": {},
   "outputs": [
    {
     "name": "stdout",
     "output_type": "stream",
     "text": [
      "The number of chambers is:\n",
      "10\n",
      "The number of bounded chambers is:\n",
      "2\n"
     ]
    }
   ],
   "source": [
    "using Nemo\n",
    "println(\"The number of chambers is:\")\n",
    "println(evaluate(chiA, -1))\n",
    "println(\"The number of bounded chambers is:\")\n",
    "println(evaluate(chiA, 1))"
   ]
  },
  {
   "cell_type": "markdown",
   "metadata": {},
   "source": [
    "The symmetry group of this arrangements permutes the first three hyperplanes.\n",
    "This group can be passed as a list of generators in one-line notation:"
   ]
  },
  {
   "cell_type": "code",
   "execution_count": 6,
   "metadata": {},
   "outputs": [
    {
     "data": {
      "text/html": [
       "[$1$, $4$, $5$]"
      ],
      "text/plain": [
       "3-element Vector{Int64}:\n",
       " 1\n",
       " 4\n",
       " 5"
      ]
     },
     "execution_count": 6,
     "metadata": {},
     "output_type": "execute_result"
    }
   ],
   "source": [
    "G =  [[2,3,1,4],[2,1,3,4]]\n",
    "betti_numbers(A; ConstantTerms=c, SymmetryGroup=G)"
   ]
  },
  {
   "cell_type": "markdown",
   "metadata": {},
   "source": [
    "## The threshold arrangement\n",
    "The $d$- **threshold arrangement** $\\mathcal{T}_d$ is an arrangement in $\\mathbb{R}^{d+1}$ consisting of the hyperplanes $1+c_1x_1+...+c_dx_d=0$ for all $c_i=0,1$.\n",
    "Its chambers correspond to threshold functions which are linearly separabale Boolean functions on $d+1$ inputs.\n",
    "We first compute the number of chambers of $\\mathcal{T_6}$ without symmetry:"
   ]
  },
  {
   "cell_type": "code",
   "execution_count": 8,
   "metadata": {},
   "outputs": [
    {
     "name": "stdout",
     "output_type": "stream",
     "text": [
      "  9.949601 seconds (22.93 M allocations: 1.059 GiB, 7.73% gc time)\n"
     ]
    },
    {
     "data": {
      "text/html": [
       "$15028134$"
      ],
      "text/plain": [
       "15028134"
      ]
     },
     "execution_count": 8,
     "metadata": {},
     "output_type": "execute_result"
    }
   ],
   "source": [
    "T6 = threshold_hyperplanes(6)\n",
    "@time number_of_chambers(T6)"
   ]
  },
  {
   "cell_type": "markdown",
   "metadata": {},
   "source": [
    "Computing the number of chambers of T_6 with symmetry:"
   ]
  },
  {
   "cell_type": "code",
   "execution_count": 10,
   "metadata": {},
   "outputs": [
    {
     "name": "stdout",
     "output_type": "stream",
     "text": [
      "  0.386299 seconds (938.90 k allocations: 53.837 MiB)\n"
     ]
    },
    {
     "data": {
      "text/html": [
       "$15028134$"
      ],
      "text/plain": [
       "15028134"
      ]
     },
     "execution_count": 10,
     "metadata": {},
     "output_type": "execute_result"
    }
   ],
   "source": [
    "GT6 = symmetry_threshold(6); # This is the symmetry group of the 6-dimensional cube.\n",
    "@time number_of_chambers(T6; SymmetryGroup=GT6)"
   ]
  },
  {
   "cell_type": "markdown",
   "metadata": {},
   "source": [
    "Computing the number of chambers of $\\mathcal{T}_6$ with the 'minimal_image' orbit representation instead of the default approximate minimal image representation described in the article:"
   ]
  },
  {
   "cell_type": "code",
   "execution_count": 26,
   "metadata": {},
   "outputs": [
    {
     "name": "stdout",
     "output_type": "stream",
     "text": [
      " 40.195483 seconds (182.42 M allocations: 9.386 GiB, 4.36% gc time)\n"
     ]
    },
    {
     "data": {
      "text/html": [
       "$15028134$"
      ],
      "text/plain": [
       "15028134"
      ]
     },
     "execution_count": 26,
     "metadata": {},
     "output_type": "execute_result"
    }
   ],
   "source": [
    "@time number_of_chambers(T6; SymmetryGroup=GT6,OrbitRepresentation=minimal_image)"
   ]
  },
  {
   "cell_type": "markdown",
   "metadata": {},
   "source": [
    "The demicube arrangement is a subarrangement of the threshold arrangement defined by the equations $1+c_1x_1+...+c_dx_d=0$ with $c_i=0,1$ such that the number of $1$'s is even."
   ]
  },
  {
   "cell_type": "code",
   "execution_count": 11,
   "metadata": {},
   "outputs": [
    {
     "data": {
      "text/html": [
       "$t^{6} - 16t^{5} + 120t^{4} - 500t^{3} + 1160t^{2} - 1362t + 597$"
      ],
      "text/latex": [
       "t^{6} - 16 t^{5} + 120 t^{4} - 500 t^{3} + 1160 t^{2} - 1362 t + 597"
      ],
      "text/plain": [
       "t^6 - 16*t^5 + 120*t^4 - 500*t^3 + 1160*t^2 - 1362*t + 597"
      ]
     },
     "execution_count": 11,
     "metadata": {},
     "output_type": "execute_result"
    }
   ],
   "source": [
    "D5 = demicube_hyperplanes(5)\n",
    "GD5 = symmetry_demicube(5)\n",
    "characteristic_polynomial(D5; SymmetryGroup=GD5)"
   ]
  },
  {
   "cell_type": "markdown",
   "metadata": {},
   "source": [
    "## The resonance arrangement\n",
    "A related arrangement is the so-called **resonance arrangement** $\\mathcal{R}_d$.\n",
    "It is the restriction of $\\mathcal{T}_d$ to the hyperplane $x_0+...+x_d=0$ and appears in various applications such as physics, computer science and ecconomics.\n",
    "We compute the Betti numbers of $\\mathcal{R}_7$ with symmetry. They add up to the total of 347326352 chambers."
   ]
  },
  {
   "cell_type": "code",
   "execution_count": 12,
   "metadata": {},
   "outputs": [
    {
     "name": "stdout",
     "output_type": "stream",
     "text": [
      "  5.072711 seconds (3.85 M allocations: 215.251 MiB, 0.10% compilation time)\n"
     ]
    },
    {
     "data": {
      "text/html": [
       "[$1$, $127$, $7035$, $215439$, $3831835$, $37769977$, $169824305$, $135677633$]"
      ],
      "text/plain": [
       "8-element Vector{Int64}:\n",
       "         1\n",
       "       127\n",
       "      7035\n",
       "    215439\n",
       "   3831835\n",
       "  37769977\n",
       " 169824305\n",
       " 135677633"
      ]
     },
     "execution_count": 12,
     "metadata": {},
     "output_type": "execute_result"
    }
   ],
   "source": [
    "R7 = resonance_hyperplanes(7);\n",
    "GR7 = symmetry_resonance(7)\n",
    "@time b=betti_numbers(R7; SymmetryGroup=GR7)"
   ]
  },
  {
   "cell_type": "code",
   "execution_count": 13,
   "metadata": {},
   "outputs": [
    {
     "data": {
      "text/html": [
       "$347326352$"
      ],
      "text/plain": [
       "347326352"
      ]
     },
     "execution_count": 13,
     "metadata": {},
     "output_type": "execute_result"
    }
   ],
   "source": [
    "sum(b) # The sum of the Betti numbers equals the number of chambers."
   ]
  },
  {
   "cell_type": "markdown",
   "metadata": {},
   "source": [
    "## The discriminantal arrangement\n",
    "The discriminantal arrangement $Disc_{d,n}$ is a non-central hyperplane arrangement.\n",
    "Given $n$ points in general position in $\\mathbb{R}^d$ is consists of the $\\binom{n}{d}$ many hyperplane spanned by $d$-subset of such points."
   ]
  },
  {
   "cell_type": "code",
   "execution_count": 18,
   "metadata": {},
   "outputs": [
    {
     "data": {
      "text/html": [
       "$600$"
      ],
      "text/plain": [
       "600"
      ]
     },
     "execution_count": 18,
     "metadata": {},
     "output_type": "execute_result"
    }
   ],
   "source": [
    "D46= discriminantal_hyperplanes(4,6)\n",
    "GD46 = symmetry_discriminantal(4,6)\n",
    "number_of_chambers(D46[1]; ConstantTerms=D46[2], SymmetryGroup=GD46)"
   ]
  }
 ],
 "metadata": {
  "kernelspec": {
   "display_name": "Julia 1.6.0",
   "language": "julia",
   "name": "julia-1.6"
  },
  "language_info": {
   "file_extension": ".jl",
   "mimetype": "application/julia",
   "name": "julia",
   "version": "1.6.0"
  }
 },
 "nbformat": 4,
 "nbformat_minor": 2
}
